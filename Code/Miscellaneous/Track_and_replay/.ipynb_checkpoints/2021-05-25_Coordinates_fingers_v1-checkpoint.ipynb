{
 "cells": [
  {
   "cell_type": "code",
   "execution_count": 1,
   "metadata": {},
   "outputs": [],
   "source": [
    "import mediapipe as mp\n",
    "import cv2\n",
    "import numpy as np\n",
    "import uuid\n",
    "import os\n",
    "import pandas as pd\n",
    "import time\n",
    "import csv"
   ]
  },
  {
   "cell_type": "code",
   "execution_count": 2,
   "metadata": {},
   "outputs": [],
   "source": [
    "mp_drawing = mp.solutions.drawing_utils\n",
    "mp_hands = mp.solutions.hands"
   ]
  },
  {
   "cell_type": "markdown",
   "metadata": {},
   "source": [
    "## Drawing Hands and obtaining coordinates"
   ]
  },
  {
   "cell_type": "code",
   "execution_count": 51,
   "metadata": {
    "scrolled": true
   },
   "outputs": [],
   "source": [
    "#create empty list to store all the pd dfs\n",
    "raw_list = []\n",
    "processed_list = []\n",
    "\n",
    "cap = cv2.VideoCapture(0)\n",
    "start = time.time()\n",
    "\n",
    "with mp_hands.Hands(min_detection_confidence=0.8, min_tracking_confidence=0.5, max_num_hands = 10) as hands:\n",
    "    #initialise the frame count\n",
    "    frame_counter = 0   \n",
    "    while cap.isOpened():\n",
    "               \n",
    "        ret, frame = cap.read()\n",
    "        \n",
    "        # count the frame number manually as using cap.get(cv2.CAP_PROP_POS_FRAMES) is tidious\n",
    "        frame_counter += 1\n",
    "               \n",
    "        # BGR 2 RGB\n",
    "        image = cv2.cvtColor(frame, cv2.COLOR_BGR2RGB)\n",
    "        \n",
    "        # Flip on horizontal\n",
    "        image = cv2.flip(image, 1)\n",
    "        \n",
    "        # Set flag\n",
    "        image.flags.writeable = False\n",
    "        \n",
    "        # Detections\n",
    "        results = hands.process(image)\n",
    "                \n",
    "        # Set flag to true\n",
    "        image.flags.writeable = True\n",
    "        \n",
    "        # RGB 2 BGR\n",
    "        image = cv2.cvtColor(image, cv2.COLOR_RGB2BGR)\n",
    "               \n",
    "        # Rendering results\n",
    "        # checking if there are any hands in the frame\n",
    "        if results.multi_hand_landmarks:\n",
    "                   \n",
    "            # looping through each feature in the frame\n",
    "            for num, hand in enumerate(results.multi_hand_landmarks):\n",
    "                \n",
    "                mp_drawing.draw_landmarks(image, hand, mp_hands.HAND_CONNECTIONS, \n",
    "                                        mp_drawing.DrawingSpec(color=(121, 22, 76), thickness=2, circle_radius=4),\n",
    "                                        mp_drawing.DrawingSpec(color=(250, 44, 250), thickness=2, circle_radius=2),\n",
    "                                         )\n",
    "            \n",
    "            # Appending to the raw list - easier to use for the playback dataset\n",
    "            raw_list.append(results.multi_hand_landmarks)\n",
    "            \n",
    "            # Appending to the processed list - easier to understand data\n",
    "            \n",
    "            # list comprehension tuple that contains feature, x, y, z coordinates for a particular frame\n",
    "            df_frame = [[feature, coordinates.x, coordinates.y, coordinates.z] \n",
    "                        for feature, coordinates in enumerate(results.multi_hand_landmarks[0].landmark)]\n",
    "            \n",
    "            \n",
    "            # obtain whether the hand is left or right\n",
    "            if results.multi_handedness[0].classification[0].label == 'Right':\n",
    "                right_or_left = 1\n",
    "            else:\n",
    "                right_or_left = 0\n",
    "                \n",
    "            # measure the amount of time that has elapsed since the programme has started\n",
    "            # this is to account for the fact that there might be time lags\n",
    "            end = time.time()\n",
    "            time_passed = end - start\n",
    "                            \n",
    "            # generate a list of the frame count and what hand that is equivalent to the length of the df_frame\n",
    "            frame_hand_time = [[frame_counter, time_passed, right_or_left] for i in range(len(df_frame))]\n",
    "            \n",
    "            # reshape the array so that it's 1d\n",
    "            convert_np = np.array(frame_hand_time)\n",
    "            \n",
    "            #convert to numpy array\n",
    "            df_frame_np_array = np.array(df_frame)\n",
    "            \n",
    "            #concatenate the arrays together\n",
    "            concate = np.concatenate((convert_np, df_frame_np_array),axis=1)\n",
    "            \n",
    "            # create a pd dataframe from the data\n",
    "            df_appending = pd.DataFrame(concate, columns=['Frame', 'Time_Elapsed', 'Hand', 'Feature', 'x', 'y', 'z'])\n",
    "\n",
    "            #append to a dataframe list - this will be merged later on\n",
    "            processed_list.append(df_appending)\n",
    "            \n",
    "        cv2.imshow('Hand Tracking', image)\n",
    "\n",
    "        if cv2.waitKey(10) & 0xFF == ord('q'):\n",
    "            break\n",
    "\n",
    "cap.release()\n",
    "cv2.destroyAllWindows()"
   ]
  },
  {
   "cell_type": "markdown",
   "metadata": {},
   "source": [
    "### Export Datasets"
   ]
  },
  {
   "cell_type": "code",
   "execution_count": 46,
   "metadata": {},
   "outputs": [],
   "source": [
    "path = r'D:\\Users\\Student\\OneDrive\\Bath\\Dissertation\\Data\\MediaPipe_Implementation'\n",
    "\n",
    "def exporter(dataset, location, export_name):\n",
    "    ''' \n",
    "    Function that exports the dataset\n",
    "    Args.\n",
    "    Dataset - the dataset to export\n",
    "    Location - the location to export the dataset to\n",
    "    Export_name - the name of the file saved\n",
    "    '''\n",
    "    \n",
    "    path = location\n",
    "    dataset.to_csv(os.path.join(path, export_name))"
   ]
  },
  {
   "cell_type": "code",
   "execution_count": 52,
   "metadata": {},
   "outputs": [],
   "source": [
    "### raw data export\n",
    "\n",
    "# opening the csv file in 'w+' mode\n",
    "file = open(path + '\\\\'+ 'raw_data.csv', 'w+', newline ='')\n",
    "  \n",
    "# writing the data into the file\n",
    "with file:    \n",
    "    write = csv.writer(file)\n",
    "    write.writerows(raw_list)\n",
    "    \n",
    "### processed dataset\n",
    "\n",
    "# merge the dataframe into one set\n",
    "merged_df = pd.concat(dataframe_list)\n",
    "\n",
    "#set the index as the frame\n",
    "merged_df.set_index('Frame')\n",
    "\n",
    "exporter(merged_df, path, 'process_data.csv')"
   ]
  },
  {
   "cell_type": "markdown",
   "metadata": {},
   "source": [
    "## Playback - saves as images"
   ]
  },
  {
   "cell_type": "code",
   "execution_count": 56,
   "metadata": {},
   "outputs": [],
   "source": [
    "# does both hands\n",
    "\n",
    "# loop through all the results in the raw list\n",
    "for i in range(len(raw_list)):\n",
    "    \n",
    "    # reinstantiate the blank image for each iteration\n",
    "    annotated_image = img.copy()\n",
    "    \n",
    "    # loop through each hand of i'th element\n",
    "    for hand in raw_list[i]:\n",
    "        \n",
    "        # draw the landmarks on the image\n",
    "        # takes the image\n",
    "        # the hand - list of landmarks\n",
    "        # the connections between the features - mp_hands.HAND_CONNECTIONS\n",
    "        mp_drawing.draw_landmarks(annotated_image, \n",
    "                          hand, mp_hands.HAND_CONNECTIONS,\n",
    "                             mp_drawing.DrawingSpec(color=(121, 22, 76), thickness=2, circle_radius=4),\n",
    "                             mp_drawing.DrawingSpec(color=(250, 44, 250), thickness=2, circle_radius=2),\n",
    "                                         )\n",
    "    name = f'image{i}.jpg'\n",
    "    cv2.imwrite(name,annotated_image)"
   ]
  },
  {
   "cell_type": "markdown",
   "metadata": {},
   "source": [
    "## Playback - saves as video"
   ]
  },
  {
   "cell_type": "code",
   "execution_count": null,
   "metadata": {},
   "outputs": [],
   "source": [
    "img_array = []\n",
    "\n",
    "path_videos = r'D:\\Users\\Student\\OneDrive\\Bath\\Dissertation\\Data\\Replay_videos'\n",
    "\n",
    "for image in glob.glob(os.path.join(path_images,'*.jpg')):\n",
    "    img = cv2.imread(image)\n",
    "    height, width, layers = img.shape\n",
    "    size = (width, height)\n",
    "    img_array.append(img)\n",
    "    \n",
    "out = cv2.VideoWriter(os.path.join(path_videos, 'video1.avi'), cv2.VideoWriter_fourcc(*'DIVX'), 8, size)\n",
    "\n",
    "for i in range(len(img_array)):\n",
    "    out.write(img_array[i])\n",
    "out.release()"
   ]
  }
 ],
 "metadata": {
  "kernelspec": {
   "display_name": "Python 3",
   "language": "python",
   "name": "python3"
  },
  "language_info": {
   "codemirror_mode": {
    "name": "ipython",
    "version": 3
   },
   "file_extension": ".py",
   "mimetype": "text/x-python",
   "name": "python",
   "nbconvert_exporter": "python",
   "pygments_lexer": "ipython3",
   "version": "3.8.3"
  }
 },
 "nbformat": 4,
 "nbformat_minor": 4
}
